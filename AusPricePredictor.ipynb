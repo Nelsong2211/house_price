{
 "cells": [
  {
   "cell_type": "code",
   "execution_count": 1,
   "metadata": {
    "id": "63Iu8YWLW-Nm"
   },
   "outputs": [],
   "source": [
    "import pandas as pd\n",
    "import numpy as np\n",
    "from matplotlib import pyplot as plt\n",
    "%matplotlib inline\n",
    "import matplotlib\n",
    "matplotlib.rcParams[\"figure.figsize\"] = (20, 10)\n",
    "pd.options.mode.chained_assignment = None # To Disable 'SettingWithCopyWarning'"
   ]
  },
  {
   "cell_type": "code",
   "execution_count": 2,
   "metadata": {
    "colab": {
     "base_uri": "https://localhost:8080/",
     "height": 34
    },
    "id": "2xY6SqruXNGF",
    "outputId": "b9c04720-4694-4fa5-d766-6b665272a8ad"
   },
   "outputs": [],
   "source": [
    "#load csv file\n",
    "# from google.colab import drive\n",
    "# drive.mount('/content/drive')"
   ]
  },
  {
   "cell_type": "code",
   "execution_count": 3,
   "metadata": {
    "colab": {
     "base_uri": "https://localhost:8080/",
     "height": 204
    },
    "id": "XziwjDL1XdBb",
    "outputId": "daa1c916-96bb-437b-c233-53b8f2697cae"
   },
   "outputs": [
    {
     "data": {
      "text/html": [
       "<div>\n",
       "<style scoped>\n",
       "    .dataframe tbody tr th:only-of-type {\n",
       "        vertical-align: middle;\n",
       "    }\n",
       "\n",
       "    .dataframe tbody tr th {\n",
       "        vertical-align: top;\n",
       "    }\n",
       "\n",
       "    .dataframe thead th {\n",
       "        text-align: right;\n",
       "    }\n",
       "</style>\n",
       "<table border=\"1\" class=\"dataframe\">\n",
       "  <thead>\n",
       "    <tr style=\"text-align: right;\">\n",
       "      <th></th>\n",
       "      <th>date_sold</th>\n",
       "      <th>price</th>\n",
       "      <th>suburb</th>\n",
       "      <th>city_name</th>\n",
       "      <th>state</th>\n",
       "      <th>lat</th>\n",
       "      <th>lon</th>\n",
       "      <th>bedrooms</th>\n",
       "      <th>property_type</th>\n",
       "      <th>loc_pid</th>\n",
       "      <th>lga_pid</th>\n",
       "    </tr>\n",
       "  </thead>\n",
       "  <tbody>\n",
       "    <tr>\n",
       "      <th>0</th>\n",
       "      <td>2018-09-18 00:00:00</td>\n",
       "      <td>NaN</td>\n",
       "      <td>Darling Point</td>\n",
       "      <td>Sydney</td>\n",
       "      <td>NSW</td>\n",
       "      <td>-33.869565</td>\n",
       "      <td>151.241317</td>\n",
       "      <td>3</td>\n",
       "      <td>unit</td>\n",
       "      <td>NSW1221</td>\n",
       "      <td>NSW180</td>\n",
       "    </tr>\n",
       "    <tr>\n",
       "      <th>1</th>\n",
       "      <td>2018-09-24 00:00:00</td>\n",
       "      <td>NaN</td>\n",
       "      <td>Darling Point</td>\n",
       "      <td>Sydney</td>\n",
       "      <td>NSW</td>\n",
       "      <td>-33.872179</td>\n",
       "      <td>151.239726</td>\n",
       "      <td>3</td>\n",
       "      <td>unit</td>\n",
       "      <td>NSW1221</td>\n",
       "      <td>NSW180</td>\n",
       "    </tr>\n",
       "    <tr>\n",
       "      <th>2</th>\n",
       "      <td>2018-09-26 00:00:00</td>\n",
       "      <td>1730000.0</td>\n",
       "      <td>Darling Point</td>\n",
       "      <td>Sydney</td>\n",
       "      <td>NSW</td>\n",
       "      <td>-33.868386</td>\n",
       "      <td>151.237471</td>\n",
       "      <td>2</td>\n",
       "      <td>unit</td>\n",
       "      <td>NSW1221</td>\n",
       "      <td>NSW180</td>\n",
       "    </tr>\n",
       "    <tr>\n",
       "      <th>3</th>\n",
       "      <td>2018-09-26 00:00:00</td>\n",
       "      <td>1928000.0</td>\n",
       "      <td>Darling Point</td>\n",
       "      <td>Sydney</td>\n",
       "      <td>NSW</td>\n",
       "      <td>-33.875465</td>\n",
       "      <td>151.236280</td>\n",
       "      <td>3</td>\n",
       "      <td>unit</td>\n",
       "      <td>NSW1221</td>\n",
       "      <td>NSW180</td>\n",
       "    </tr>\n",
       "    <tr>\n",
       "      <th>4</th>\n",
       "      <td>2018-10-02 00:00:00</td>\n",
       "      <td>1475000.0</td>\n",
       "      <td>Darling Point</td>\n",
       "      <td>Sydney</td>\n",
       "      <td>NSW</td>\n",
       "      <td>-33.875734</td>\n",
       "      <td>151.233575</td>\n",
       "      <td>3</td>\n",
       "      <td>unit</td>\n",
       "      <td>NSW1221</td>\n",
       "      <td>NSW180</td>\n",
       "    </tr>\n",
       "  </tbody>\n",
       "</table>\n",
       "</div>"
      ],
      "text/plain": [
       "             date_sold      price         suburb city_name state        lat  \\\n",
       "0  2018-09-18 00:00:00        NaN  Darling Point    Sydney   NSW -33.869565   \n",
       "1  2018-09-24 00:00:00        NaN  Darling Point    Sydney   NSW -33.872179   \n",
       "2  2018-09-26 00:00:00  1730000.0  Darling Point    Sydney   NSW -33.868386   \n",
       "3  2018-09-26 00:00:00  1928000.0  Darling Point    Sydney   NSW -33.875465   \n",
       "4  2018-10-02 00:00:00  1475000.0  Darling Point    Sydney   NSW -33.875734   \n",
       "\n",
       "          lon  bedrooms property_type  loc_pid lga_pid  \n",
       "0  151.241317         3          unit  NSW1221  NSW180  \n",
       "1  151.239726         3          unit  NSW1221  NSW180  \n",
       "2  151.237471         2          unit  NSW1221  NSW180  \n",
       "3  151.236280         3          unit  NSW1221  NSW180  \n",
       "4  151.233575         3          unit  NSW1221  NSW180  "
      ]
     },
     "execution_count": 3,
     "metadata": {},
     "output_type": "execute_result"
    }
   ],
   "source": [
    "# URL = 'https://drive.google.com/file/d/1M1VcCbuZiR6g5FaBVHGqasFajad4-Iom/view?usp=sharing'\n",
    "# path = 'https://drive.google.com/uc?export=download&id='+URL.split('/')[-2]\n",
    "df1 = pd.read_csv('/Users/janithalgewatta/Desktop/Fiverr/final-project/aus-property-sales-sep2018-april2020.csv')\n",
    "df1.head()"
   ]
  },
  {
   "cell_type": "code",
   "execution_count": 4,
   "metadata": {
    "colab": {
     "base_uri": "https://localhost:8080/",
     "height": 34
    },
    "id": "eOusoRo2csIg",
    "outputId": "ce1a0301-fb3b-41c4-bd8a-2ce0d2101123"
   },
   "outputs": [
    {
     "data": {
      "text/plain": [
       "(320334, 11)"
      ]
     },
     "execution_count": 4,
     "metadata": {},
     "output_type": "execute_result"
    }
   ],
   "source": [
    "df1.shape"
   ]
  },
  {
   "cell_type": "code",
   "execution_count": 5,
   "metadata": {
    "colab": {
     "base_uri": "https://localhost:8080/",
     "height": 153
    },
    "id": "pac4eDWcdBBc",
    "outputId": "ea8b7d88-4535-4c08-f317-8bc05cc148be"
   },
   "outputs": [
    {
     "data": {
      "text/plain": [
       "city_name\n",
       "Adelaide      32857\n",
       "Brisbane      32240\n",
       "Canberra      11101\n",
       "Melbourne    119180\n",
       "Perth         39661\n",
       "Sydney        85295\n",
       "Name: city_name, dtype: int64"
      ]
     },
     "execution_count": 5,
     "metadata": {},
     "output_type": "execute_result"
    }
   ],
   "source": [
    "df1.groupby('city_name')['city_name'].agg('count')"
   ]
  },
  {
   "cell_type": "code",
   "execution_count": 6,
   "metadata": {
    "colab": {
     "base_uri": "https://localhost:8080/",
     "height": 153
    },
    "id": "QYfi4WspdsSa",
    "outputId": "8378bfed-1b2b-4ca9-8f3d-c8fcc9123fe5"
   },
   "outputs": [
    {
     "data": {
      "text/plain": [
       "state\n",
       "ACT     11101\n",
       "NSW     85295\n",
       "QLD     32240\n",
       "SA      32857\n",
       "VIC    119180\n",
       "WA      39661\n",
       "Name: state, dtype: int64"
      ]
     },
     "execution_count": 6,
     "metadata": {},
     "output_type": "execute_result"
    }
   ],
   "source": [
    "df1.groupby('state')['state'].agg('count')"
   ]
  },
  {
   "cell_type": "code",
   "execution_count": 7,
   "metadata": {
    "colab": {
     "base_uri": "https://localhost:8080/",
     "height": 204
    },
    "id": "hyhTw9tgd_fu",
    "outputId": "e9a31e91-66c0-4bf3-fb32-3c3e69e72852"
   },
   "outputs": [
    {
     "data": {
      "text/html": [
       "<div>\n",
       "<style scoped>\n",
       "    .dataframe tbody tr th:only-of-type {\n",
       "        vertical-align: middle;\n",
       "    }\n",
       "\n",
       "    .dataframe tbody tr th {\n",
       "        vertical-align: top;\n",
       "    }\n",
       "\n",
       "    .dataframe thead th {\n",
       "        text-align: right;\n",
       "    }\n",
       "</style>\n",
       "<table border=\"1\" class=\"dataframe\">\n",
       "  <thead>\n",
       "    <tr style=\"text-align: right;\">\n",
       "      <th></th>\n",
       "      <th>price</th>\n",
       "      <th>city_name</th>\n",
       "      <th>state</th>\n",
       "      <th>bedrooms</th>\n",
       "      <th>property_type</th>\n",
       "    </tr>\n",
       "  </thead>\n",
       "  <tbody>\n",
       "    <tr>\n",
       "      <th>0</th>\n",
       "      <td>NaN</td>\n",
       "      <td>Sydney</td>\n",
       "      <td>NSW</td>\n",
       "      <td>3</td>\n",
       "      <td>unit</td>\n",
       "    </tr>\n",
       "    <tr>\n",
       "      <th>1</th>\n",
       "      <td>NaN</td>\n",
       "      <td>Sydney</td>\n",
       "      <td>NSW</td>\n",
       "      <td>3</td>\n",
       "      <td>unit</td>\n",
       "    </tr>\n",
       "    <tr>\n",
       "      <th>2</th>\n",
       "      <td>1730000.0</td>\n",
       "      <td>Sydney</td>\n",
       "      <td>NSW</td>\n",
       "      <td>2</td>\n",
       "      <td>unit</td>\n",
       "    </tr>\n",
       "    <tr>\n",
       "      <th>3</th>\n",
       "      <td>1928000.0</td>\n",
       "      <td>Sydney</td>\n",
       "      <td>NSW</td>\n",
       "      <td>3</td>\n",
       "      <td>unit</td>\n",
       "    </tr>\n",
       "    <tr>\n",
       "      <th>4</th>\n",
       "      <td>1475000.0</td>\n",
       "      <td>Sydney</td>\n",
       "      <td>NSW</td>\n",
       "      <td>3</td>\n",
       "      <td>unit</td>\n",
       "    </tr>\n",
       "  </tbody>\n",
       "</table>\n",
       "</div>"
      ],
      "text/plain": [
       "       price city_name state  bedrooms property_type\n",
       "0        NaN    Sydney   NSW         3          unit\n",
       "1        NaN    Sydney   NSW         3          unit\n",
       "2  1730000.0    Sydney   NSW         2          unit\n",
       "3  1928000.0    Sydney   NSW         3          unit\n",
       "4  1475000.0    Sydney   NSW         3          unit"
      ]
     },
     "execution_count": 7,
     "metadata": {},
     "output_type": "execute_result"
    }
   ],
   "source": [
    "df2 = df1.drop(['date_sold', 'suburb', 'lat', 'lon', 'loc_pid', 'lga_pid'], axis='columns')\n",
    "df2.head()"
   ]
  },
  {
   "cell_type": "code",
   "execution_count": 8,
   "metadata": {
    "colab": {
     "base_uri": "https://localhost:8080/",
     "height": 119
    },
    "id": "C04b4EYTfIDm",
    "outputId": "c7a88fb5-48d3-48b1-fbef-b17cc9275435"
   },
   "outputs": [
    {
     "data": {
      "text/plain": [
       "price            62508\n",
       "city_name            0\n",
       "state                0\n",
       "bedrooms             0\n",
       "property_type        0\n",
       "dtype: int64"
      ]
     },
     "execution_count": 8,
     "metadata": {},
     "output_type": "execute_result"
    }
   ],
   "source": [
    "df2.isnull().sum()"
   ]
  },
  {
   "cell_type": "code",
   "execution_count": 9,
   "metadata": {
    "colab": {
     "base_uri": "https://localhost:8080/",
     "height": 119
    },
    "id": "E0sLNDHIfQbL",
    "outputId": "76475378-7d2c-4647-97f0-bed9cb6b7378"
   },
   "outputs": [
    {
     "data": {
      "text/plain": [
       "price            0\n",
       "city_name        0\n",
       "state            0\n",
       "bedrooms         0\n",
       "property_type    0\n",
       "dtype: int64"
      ]
     },
     "execution_count": 9,
     "metadata": {},
     "output_type": "execute_result"
    }
   ],
   "source": [
    "df3 = df2.dropna()\n",
    "df3.isnull().sum()"
   ]
  },
  {
   "cell_type": "code",
   "execution_count": 10,
   "metadata": {
    "colab": {
     "base_uri": "https://localhost:8080/",
     "height": 34
    },
    "id": "vFSuIHrLfVb9",
    "outputId": "80d12810-ac7b-41d8-db60-7e6f56f57b00"
   },
   "outputs": [
    {
     "data": {
      "text/plain": [
       "(257826, 5)"
      ]
     },
     "execution_count": 10,
     "metadata": {},
     "output_type": "execute_result"
    }
   ],
   "source": [
    "df3.shape"
   ]
  },
  {
   "cell_type": "code",
   "execution_count": 11,
   "metadata": {
    "colab": {
     "base_uri": "https://localhost:8080/",
     "height": 119
    },
    "id": "AYge5icUfaf8",
    "outputId": "f4a5e320-d226-4632-b246-f2dfa0b5bcc1"
   },
   "outputs": [
    {
     "data": {
      "text/plain": [
       "price            float64\n",
       "city_name         object\n",
       "state             object\n",
       "bedrooms           int64\n",
       "property_type     object\n",
       "dtype: object"
      ]
     },
     "execution_count": 11,
     "metadata": {},
     "output_type": "execute_result"
    }
   ],
   "source": [
    "df3.dtypes"
   ]
  },
  {
   "cell_type": "code",
   "execution_count": 12,
   "metadata": {},
   "outputs": [
    {
     "data": {
      "text/plain": [
       "array(['unit', 'house', 'townhouse'], dtype=object)"
      ]
     },
     "execution_count": 12,
     "metadata": {},
     "output_type": "execute_result"
    }
   ],
   "source": [
    "data = df3\n",
    "data.property_type.unique()"
   ]
  },
  {
   "cell_type": "code",
   "execution_count": 13,
   "metadata": {},
   "outputs": [
    {
     "data": {
      "text/plain": [
       "array(['NSW', 'VIC', 'WA', 'SA', 'QLD', 'ACT'], dtype=object)"
      ]
     },
     "execution_count": 13,
     "metadata": {},
     "output_type": "execute_result"
    }
   ],
   "source": [
    "data.state.unique()"
   ]
  },
  {
   "cell_type": "code",
   "execution_count": 14,
   "metadata": {},
   "outputs": [
    {
     "data": {
      "text/plain": [
       "array(['Sydney', 'Melbourne', 'Perth', 'Adelaide', 'Brisbane', 'Canberra'],\n",
       "      dtype=object)"
      ]
     },
     "execution_count": 14,
     "metadata": {},
     "output_type": "execute_result"
    }
   ],
   "source": [
    "data.city_name.unique()"
   ]
  },
  {
   "cell_type": "code",
   "execution_count": 15,
   "metadata": {
    "id": "NfUHkr09jxcd"
   },
   "outputs": [],
   "source": [
    "# df3.city_name = pd.Categorical(df3.city_name)\n",
    "# df3.state = pd.Categorical(df3.state)\n",
    "# df3.property_type = pd.Categorical(df3.property_type)\n",
    "\n",
    "# Let us map the variables with 2 levels to 0 and 1\n",
    "data['unit']=data['property_type'].map({'unit':1, 'house':0, \"townhouse\": 0})\n",
    "data['house']=data['property_type'].map({'unit':0, 'house':1, \"townhouse\": 0})\n",
    "data['townhouse']=data['property_type'].map({'unit':0, 'house':0, \"townhouse\": 1})\n",
    "\n",
    "# Let us map the variables with 2 levels to 0 and 1\n",
    "data['NSW']=data['state'].map({'NSW':1, 'VIC':0, \"WA\": 0, \"SA\": 0, \"QLD\": 0, \"ACT\": 0})\n",
    "data['VIC']=data['state'].map({'NSW':0, 'VIC':1, \"WA\": 0, \"SA\": 0, \"QLD\": 0, \"ACT\": 0})\n",
    "data['WA']=data['state'].map({'NSW':0, 'VIC':0, \"WA\": 1, \"SA\": 0, \"QLD\": 0, \"ACT\": 0})\n",
    "data['SA']=data['state'].map({'NSW':0, 'VIC':0, \"WA\": 0, \"SA\": 1, \"QLD\": 0, \"ACT\": 0})\n",
    "data['QLD']=data['state'].map({'NSW':0, 'VIC':0, \"WA\": 0, \"SA\": 0, \"QLD\": 1, \"ACT\": 0})\n",
    "data['ACT']=data['state'].map({'NSW':0, 'VIC':0, \"WA\": 0, \"SA\": 0, \"QLD\": 0, \"ACT\": 1})"
   ]
  },
  {
   "cell_type": "code",
   "execution_count": 16,
   "metadata": {
    "colab": {
     "base_uri": "https://localhost:8080/",
     "height": 119
    },
    "id": "k51vILpDkTtS",
    "outputId": "b264bc94-9736-4026-f367-840b4e5e03ff"
   },
   "outputs": [
    {
     "data": {
      "text/html": [
       "<div>\n",
       "<style scoped>\n",
       "    .dataframe tbody tr th:only-of-type {\n",
       "        vertical-align: middle;\n",
       "    }\n",
       "\n",
       "    .dataframe tbody tr th {\n",
       "        vertical-align: top;\n",
       "    }\n",
       "\n",
       "    .dataframe thead th {\n",
       "        text-align: right;\n",
       "    }\n",
       "</style>\n",
       "<table border=\"1\" class=\"dataframe\">\n",
       "  <thead>\n",
       "    <tr style=\"text-align: right;\">\n",
       "      <th></th>\n",
       "      <th>price</th>\n",
       "      <th>city_name</th>\n",
       "      <th>state</th>\n",
       "      <th>bedrooms</th>\n",
       "      <th>property_type</th>\n",
       "      <th>unit</th>\n",
       "      <th>house</th>\n",
       "      <th>townhouse</th>\n",
       "      <th>NSW</th>\n",
       "      <th>VIC</th>\n",
       "      <th>WA</th>\n",
       "      <th>SA</th>\n",
       "      <th>QLD</th>\n",
       "      <th>ACT</th>\n",
       "    </tr>\n",
       "  </thead>\n",
       "  <tbody>\n",
       "    <tr>\n",
       "      <th>2</th>\n",
       "      <td>1730000.0</td>\n",
       "      <td>Sydney</td>\n",
       "      <td>NSW</td>\n",
       "      <td>2</td>\n",
       "      <td>unit</td>\n",
       "      <td>1</td>\n",
       "      <td>0</td>\n",
       "      <td>0</td>\n",
       "      <td>1</td>\n",
       "      <td>0</td>\n",
       "      <td>0</td>\n",
       "      <td>0</td>\n",
       "      <td>0</td>\n",
       "      <td>0</td>\n",
       "    </tr>\n",
       "    <tr>\n",
       "      <th>3</th>\n",
       "      <td>1928000.0</td>\n",
       "      <td>Sydney</td>\n",
       "      <td>NSW</td>\n",
       "      <td>3</td>\n",
       "      <td>unit</td>\n",
       "      <td>1</td>\n",
       "      <td>0</td>\n",
       "      <td>0</td>\n",
       "      <td>1</td>\n",
       "      <td>0</td>\n",
       "      <td>0</td>\n",
       "      <td>0</td>\n",
       "      <td>0</td>\n",
       "      <td>0</td>\n",
       "    </tr>\n",
       "    <tr>\n",
       "      <th>4</th>\n",
       "      <td>1475000.0</td>\n",
       "      <td>Sydney</td>\n",
       "      <td>NSW</td>\n",
       "      <td>3</td>\n",
       "      <td>unit</td>\n",
       "      <td>1</td>\n",
       "      <td>0</td>\n",
       "      <td>0</td>\n",
       "      <td>1</td>\n",
       "      <td>0</td>\n",
       "      <td>0</td>\n",
       "      <td>0</td>\n",
       "      <td>0</td>\n",
       "      <td>0</td>\n",
       "    </tr>\n",
       "    <tr>\n",
       "      <th>5</th>\n",
       "      <td>960000.0</td>\n",
       "      <td>Sydney</td>\n",
       "      <td>NSW</td>\n",
       "      <td>2</td>\n",
       "      <td>unit</td>\n",
       "      <td>1</td>\n",
       "      <td>0</td>\n",
       "      <td>0</td>\n",
       "      <td>1</td>\n",
       "      <td>0</td>\n",
       "      <td>0</td>\n",
       "      <td>0</td>\n",
       "      <td>0</td>\n",
       "      <td>0</td>\n",
       "    </tr>\n",
       "    <tr>\n",
       "      <th>7</th>\n",
       "      <td>1615000.0</td>\n",
       "      <td>Sydney</td>\n",
       "      <td>NSW</td>\n",
       "      <td>2</td>\n",
       "      <td>unit</td>\n",
       "      <td>1</td>\n",
       "      <td>0</td>\n",
       "      <td>0</td>\n",
       "      <td>1</td>\n",
       "      <td>0</td>\n",
       "      <td>0</td>\n",
       "      <td>0</td>\n",
       "      <td>0</td>\n",
       "      <td>0</td>\n",
       "    </tr>\n",
       "  </tbody>\n",
       "</table>\n",
       "</div>"
      ],
      "text/plain": [
       "       price city_name state  bedrooms property_type  unit  house  townhouse  \\\n",
       "2  1730000.0    Sydney   NSW         2          unit     1      0          0   \n",
       "3  1928000.0    Sydney   NSW         3          unit     1      0          0   \n",
       "4  1475000.0    Sydney   NSW         3          unit     1      0          0   \n",
       "5   960000.0    Sydney   NSW         2          unit     1      0          0   \n",
       "7  1615000.0    Sydney   NSW         2          unit     1      0          0   \n",
       "\n",
       "   NSW  VIC  WA  SA  QLD  ACT  \n",
       "2    1    0   0   0    0    0  \n",
       "3    1    0   0   0    0    0  \n",
       "4    1    0   0   0    0    0  \n",
       "5    1    0   0   0    0    0  \n",
       "7    1    0   0   0    0    0  "
      ]
     },
     "execution_count": 16,
     "metadata": {},
     "output_type": "execute_result"
    }
   ],
   "source": [
    "data.head()"
   ]
  },
  {
   "cell_type": "code",
   "execution_count": 17,
   "metadata": {
    "id": "E8bMV-ZfkV4c"
   },
   "outputs": [],
   "source": [
    "data = data.drop('city_name',axis=1)"
   ]
  },
  {
   "cell_type": "code",
   "execution_count": 18,
   "metadata": {
    "id": "IVXYEHW3lZzI"
   },
   "outputs": [],
   "source": [
    "data = data.drop('state',axis=1)"
   ]
  },
  {
   "cell_type": "code",
   "execution_count": 19,
   "metadata": {
    "id": "RboGuoZslUZd"
   },
   "outputs": [
    {
     "data": {
      "text/html": [
       "<div>\n",
       "<style scoped>\n",
       "    .dataframe tbody tr th:only-of-type {\n",
       "        vertical-align: middle;\n",
       "    }\n",
       "\n",
       "    .dataframe tbody tr th {\n",
       "        vertical-align: top;\n",
       "    }\n",
       "\n",
       "    .dataframe thead th {\n",
       "        text-align: right;\n",
       "    }\n",
       "</style>\n",
       "<table border=\"1\" class=\"dataframe\">\n",
       "  <thead>\n",
       "    <tr style=\"text-align: right;\">\n",
       "      <th></th>\n",
       "      <th>price</th>\n",
       "      <th>bedrooms</th>\n",
       "      <th>unit</th>\n",
       "      <th>house</th>\n",
       "      <th>townhouse</th>\n",
       "      <th>NSW</th>\n",
       "      <th>VIC</th>\n",
       "      <th>WA</th>\n",
       "      <th>SA</th>\n",
       "      <th>QLD</th>\n",
       "      <th>ACT</th>\n",
       "    </tr>\n",
       "  </thead>\n",
       "  <tbody>\n",
       "    <tr>\n",
       "      <th>2</th>\n",
       "      <td>1730000.0</td>\n",
       "      <td>2</td>\n",
       "      <td>1</td>\n",
       "      <td>0</td>\n",
       "      <td>0</td>\n",
       "      <td>1</td>\n",
       "      <td>0</td>\n",
       "      <td>0</td>\n",
       "      <td>0</td>\n",
       "      <td>0</td>\n",
       "      <td>0</td>\n",
       "    </tr>\n",
       "    <tr>\n",
       "      <th>3</th>\n",
       "      <td>1928000.0</td>\n",
       "      <td>3</td>\n",
       "      <td>1</td>\n",
       "      <td>0</td>\n",
       "      <td>0</td>\n",
       "      <td>1</td>\n",
       "      <td>0</td>\n",
       "      <td>0</td>\n",
       "      <td>0</td>\n",
       "      <td>0</td>\n",
       "      <td>0</td>\n",
       "    </tr>\n",
       "    <tr>\n",
       "      <th>4</th>\n",
       "      <td>1475000.0</td>\n",
       "      <td>3</td>\n",
       "      <td>1</td>\n",
       "      <td>0</td>\n",
       "      <td>0</td>\n",
       "      <td>1</td>\n",
       "      <td>0</td>\n",
       "      <td>0</td>\n",
       "      <td>0</td>\n",
       "      <td>0</td>\n",
       "      <td>0</td>\n",
       "    </tr>\n",
       "    <tr>\n",
       "      <th>5</th>\n",
       "      <td>960000.0</td>\n",
       "      <td>2</td>\n",
       "      <td>1</td>\n",
       "      <td>0</td>\n",
       "      <td>0</td>\n",
       "      <td>1</td>\n",
       "      <td>0</td>\n",
       "      <td>0</td>\n",
       "      <td>0</td>\n",
       "      <td>0</td>\n",
       "      <td>0</td>\n",
       "    </tr>\n",
       "    <tr>\n",
       "      <th>7</th>\n",
       "      <td>1615000.0</td>\n",
       "      <td>2</td>\n",
       "      <td>1</td>\n",
       "      <td>0</td>\n",
       "      <td>0</td>\n",
       "      <td>1</td>\n",
       "      <td>0</td>\n",
       "      <td>0</td>\n",
       "      <td>0</td>\n",
       "      <td>0</td>\n",
       "      <td>0</td>\n",
       "    </tr>\n",
       "  </tbody>\n",
       "</table>\n",
       "</div>"
      ],
      "text/plain": [
       "       price  bedrooms  unit  house  townhouse  NSW  VIC  WA  SA  QLD  ACT\n",
       "2  1730000.0         2     1      0          0    1    0   0   0    0    0\n",
       "3  1928000.0         3     1      0          0    1    0   0   0    0    0\n",
       "4  1475000.0         3     1      0          0    1    0   0   0    0    0\n",
       "5   960000.0         2     1      0          0    1    0   0   0    0    0\n",
       "7  1615000.0         2     1      0          0    1    0   0   0    0    0"
      ]
     },
     "execution_count": 19,
     "metadata": {},
     "output_type": "execute_result"
    }
   ],
   "source": [
    "data = data.drop('property_type',axis=1)\n",
    "data.head()"
   ]
  },
  {
   "cell_type": "code",
   "execution_count": 20,
   "metadata": {
    "colab": {
     "base_uri": "https://localhost:8080/",
     "height": 204
    },
    "id": "DU0DgTrDloDv",
    "outputId": "dfdfc5f5-5ea3-4342-b4bb-44729a99bc55"
   },
   "outputs": [],
   "source": [
    "# Split\n",
    "# Create features variable \n",
    "X =data[['bedrooms', \"unit\", \"house\", \"townhouse\", 'NSW',\n",
    "       'VIC', 'WA', 'SA', 'QLD', 'ACT']]\n",
    "\n",
    "# Create target variable\n",
    "y = data['price']\n",
    "\n",
    "# Train, test, split\n",
    "from sklearn.model_selection import train_test_split\n",
    "X_train, X_test, y_train, y_test = train_test_split(X,y, test_size = 0.2, random_state= 10)"
   ]
  },
  {
   "cell_type": "code",
   "execution_count": 21,
   "metadata": {
    "id": "yF0xTZddltcm"
   },
   "outputs": [
    {
     "data": {
      "text/plain": [
       "0.22186501977479045"
      ]
     },
     "execution_count": 21,
     "metadata": {},
     "output_type": "execute_result"
    }
   ],
   "source": [
    "# Fit\n",
    "# Import model\n",
    "from sklearn.linear_model import LinearRegression\n",
    "\n",
    "# Create linear regression object\n",
    "regressor = LinearRegression()\n",
    "\n",
    "# Fit model to training data\n",
    "regressor.fit(X_train,y_train)\n",
    "regressor.score(X_train, y_train)"
   ]
  },
  {
   "cell_type": "code",
   "execution_count": 22,
   "metadata": {},
   "outputs": [],
   "source": [
    "# Predict\n",
    "# Predicting test set results\n",
    "y_pred = regressor.predict(X_test)"
   ]
  },
  {
   "cell_type": "code",
   "execution_count": 23,
   "metadata": {},
   "outputs": [
    {
     "name": "stdout",
     "output_type": "stream",
     "text": [
      "MAE: 305720.94936586125\n",
      "MSE: 254817939757.1433\n",
      "RMSE: 504794.9482286281\n"
     ]
    }
   ],
   "source": [
    "# Score It\n",
    "from sklearn import metrics\n",
    "print('MAE:',metrics.mean_absolute_error(y_test,y_pred))\n",
    "print('MSE:',metrics.mean_squared_error(y_test,y_pred))\n",
    "print('RMSE:',np.sqrt(metrics.mean_squared_error(y_test,y_pred)))"
   ]
  },
  {
   "cell_type": "code",
   "execution_count": 24,
   "metadata": {
    "id": "pPY9EuO2l1gI"
   },
   "outputs": [],
   "source": [
    "# save regression model to .pickle file\n",
    "import pickle\n",
    "filename = '/Users/janithalgewatta/Desktop/Fiverr/final-project/finalized_model.sav'\n",
    "pickle.dump(regressor, open(filename, 'wb'))"
   ]
  },
  {
   "cell_type": "code",
   "execution_count": 25,
   "metadata": {},
   "outputs": [
    {
     "name": "stdout",
     "output_type": "stream",
     "text": [
      "LinearRegression(copy_X=True, fit_intercept=True, n_jobs=None, normalize=False)\n"
     ]
    }
   ],
   "source": [
    "# load the model from disk\n",
    "loaded_model = pickle.load(open(filename, 'rb'))\n",
    "print(loaded_model)"
   ]
  },
  {
   "cell_type": "code",
   "execution_count": 26,
   "metadata": {},
   "outputs": [
    {
     "name": "stdout",
     "output_type": "stream",
     "text": [
      "        bedrooms  unit  house  townhouse  NSW  VIC  WA  SA  QLD  ACT\n",
      "37972          1     1      0          0    0    1   0   0    0    0\n",
      "286932         4     0      1          0    1    0   0   0    0    0\n",
      "232158         3     0      1          0    0    0   1   0    0    0\n",
      "247658         3     0      1          0    0    0   0   1    0    0\n",
      "120929         4     0      1          0    1    0   0   0    0    0\n",
      "...          ...   ...    ...        ...  ...  ...  ..  ..  ...  ...\n",
      "116605         4     0      1          0    1    0   0   0    0    0\n",
      "226920         3     0      1          0    0    0   1   0    0    0\n",
      "117981         4     0      1          0    1    0   0   0    0    0\n",
      "293894         3     0      1          0    0    0   0   0    0    1\n",
      "104791         5     0      1          0    1    0   0   0    0    0\n",
      "\n",
      "[206260 rows x 10 columns]\n",
      "        bedrooms  unit  house  townhouse  NSW  VIC  WA  SA  QLD  ACT\n",
      "271283         3     0      1          0    0    0   0   0    1    0\n",
      "86733          4     0      1          0    1    0   0   0    0    0\n",
      "96792          5     0      1          0    1    0   0   0    0    0\n",
      "206221         4     0      1          0    0    0   1   0    0    0\n",
      "108803         3     0      1          0    1    0   0   0    0    0\n",
      "...          ...   ...    ...        ...  ...  ...  ..  ..  ...  ...\n",
      "49050          2     1      0          0    0    1   0   0    0    0\n",
      "211521         3     0      1          0    0    0   1   0    0    0\n",
      "2763           2     1      0          0    1    0   0   0    0    0\n",
      "318965         3     0      0          1    0    0   0   0    0    1\n",
      "177185         2     0      1          0    0    1   0   0    0    0\n",
      "\n",
      "[51566 rows x 10 columns]\n",
      "37972      410000.0\n",
      "286932    1243000.0\n",
      "232158     620000.0\n",
      "247658     445000.0\n",
      "120929     560000.0\n",
      "            ...    \n",
      "116605     890000.0\n",
      "226920     335000.0\n",
      "117981     935000.0\n",
      "293894     555000.0\n",
      "104791     765000.0\n",
      "Name: price, Length: 206260, dtype: float64\n",
      "271283     845000.0\n",
      "86733     2250000.0\n",
      "96792     1680000.0\n",
      "206221     412000.0\n",
      "108803    1102000.0\n",
      "            ...    \n",
      "49050      580000.0\n",
      "211521     450000.0\n",
      "2763      1030000.0\n",
      "318965     467000.0\n",
      "177185     872000.0\n",
      "Name: price, Length: 51566, dtype: float64\n"
     ]
    },
    {
     "data": {
      "text/plain": [
       "array([902788.])"
      ]
     },
     "execution_count": 26,
     "metadata": {},
     "output_type": "execute_result"
    }
   ],
   "source": [
    "print(X_train)\n",
    "print(X_test)\n",
    "print(y_train)\n",
    "print(y_test)\n",
    "\n",
    "loaded_model.predict([[2,1,0,0,1,0,0,0,0,0]])"
   ]
  },
  {
   "cell_type": "code",
   "execution_count": 27,
   "metadata": {},
   "outputs": [
    {
     "data": {
      "text/plain": [
       "array([1001336.])"
      ]
     },
     "execution_count": 27,
     "metadata": {},
     "output_type": "execute_result"
    }
   ],
   "source": [
    "loaded_model.predict([[4,0,1,0,0,1,0,0,0,0]])"
   ]
  },
  {
   "cell_type": "code",
   "execution_count": 28,
   "metadata": {},
   "outputs": [
    {
     "data": {
      "text/plain": [
       "0.25091599282196997"
      ]
     },
     "execution_count": 28,
     "metadata": {},
     "output_type": "execute_result"
    }
   ],
   "source": [
    "regressor.score(X_test, y_test)"
   ]
  },
  {
   "cell_type": "code",
   "execution_count": 29,
   "metadata": {},
   "outputs": [
    {
     "name": "stdout",
     "output_type": "stream",
     "text": [
      "        bedrooms  unit  house  townhouse  NSW  VIC  WA  SA  QLD  ACT\n",
      "2              2     1      0          0    1    0   0   0    0    0\n",
      "3              3     1      0          0    1    0   0   0    0    0\n",
      "4              3     1      0          0    1    0   0   0    0    0\n",
      "5              2     1      0          0    1    0   0   0    0    0\n",
      "7              2     1      0          0    1    0   0   0    0    0\n",
      "...          ...   ...    ...        ...  ...  ...  ..  ..  ...  ...\n",
      "320328         2     0      0          1    0    0   0   0    0    1\n",
      "320330         3     0      0          1    0    0   0   0    0    1\n",
      "320331         3     0      0          1    0    0   0   0    0    1\n",
      "320332         3     0      0          1    0    0   0   0    0    1\n",
      "320333         2     0      0          1    0    0   0   0    0    1\n",
      "\n",
      "[257826 rows x 10 columns]\n",
      "2         1730000.0\n",
      "3         1928000.0\n",
      "4         1475000.0\n",
      "5          960000.0\n",
      "7         1615000.0\n",
      "            ...    \n",
      "320328     439900.0\n",
      "320330     549900.0\n",
      "320331     499900.0\n",
      "320332     434000.0\n",
      "320333     420000.0\n",
      "Name: price, Length: 257826, dtype: float64\n"
     ]
    }
   ],
   "source": [
    "# tmp = regressor.predict(X)\n",
    "# plt.scatter(X, y)\n",
    "# plt.plot(X, tmp)\n",
    "\n",
    "print(X)\n",
    "print(y)"
   ]
  }
 ],
 "metadata": {
  "colab": {
   "collapsed_sections": [],
   "name": "AusPricePredictor.ipynb",
   "provenance": []
  },
  "kernelspec": {
   "display_name": "Python 3",
   "language": "python",
   "name": "python3"
  },
  "language_info": {
   "codemirror_mode": {
    "name": "ipython",
    "version": 3
   },
   "file_extension": ".py",
   "mimetype": "text/x-python",
   "name": "python",
   "nbconvert_exporter": "python",
   "pygments_lexer": "ipython3",
   "version": "3.7.6"
  }
 },
 "nbformat": 4,
 "nbformat_minor": 1
}
